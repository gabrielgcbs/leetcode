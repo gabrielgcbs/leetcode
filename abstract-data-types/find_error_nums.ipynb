{
  "nbformat": 4,
  "nbformat_minor": 0,
  "metadata": {
    "colab": {
      "name": "Untitled2.ipynb",
      "provenance": []
    },
    "kernelspec": {
      "name": "python3",
      "display_name": "Python 3"
    },
    "language_info": {
      "name": "python"
    }
  },
  "cells": [
    {
      "cell_type": "markdown",
      "source": [
        "# **645. Set Mismatch**\n",
        "\n",
        "## You have a set of integers s, which originally contains all the numbers from 1 to n. Unfortunately, due to some error, one of the numbers in s got duplicated to another number in the set, which results in repetition of one number and loss of another number.\n",
        "\n",
        "You are given an integer array nums representing the data status of this set after the error.\n",
        "\n",
        "Find the number that occurs twice and the number that is missing and return them in the form of an array."
      ],
      "metadata": {
        "id": "xAtMGt0BOnAi"
      }
    },
    {
      "cell_type": "code",
      "execution_count": null,
      "metadata": {
        "id": "pN0skqGYOgET"
      },
      "outputs": [],
      "source": [
        "class Solution:\n",
        "    def findErrorNums(self, nums: list) -> list:\n",
        "        nums_dict = {}\n",
        "        for index, num in enumerate(sorted(nums)):\n",
        "            if num not in nums_dict.values():\n",
        "                nums_dict[index+1] = num \n",
        "            else:\n",
        "                nums_dict[index+1] = 0\n",
        "                repeated_number = num\n",
        "                \n",
        "        missing_number = sum(nums_dict.keys())-sum(nums_dict.values())\n",
        "        return [repeated_number, missing_number]"
      ]
    }
  ]
}
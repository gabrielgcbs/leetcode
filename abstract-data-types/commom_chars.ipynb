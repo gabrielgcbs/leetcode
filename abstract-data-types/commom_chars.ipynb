{
  "nbformat": 4,
  "nbformat_minor": 0,
  "metadata": {
    "colab": {
      "name": "Untitled2.ipynb",
      "provenance": []
    },
    "kernelspec": {
      "name": "python3",
      "display_name": "Python 3"
    },
    "language_info": {
      "name": "python"
    }
  },
  "cells": [
    {
      "cell_type": "markdown",
      "source": [
        "# **1002. Find Common Characters**\n",
        "\n",
        "## Given a string array words, return an array of all characters that show up in all strings within the words (including duplicates). You may return the answer in any order."
      ],
      "metadata": {
        "id": "xAtMGt0BOnAi"
      }
    },
    {
      "cell_type": "code",
      "execution_count": 4,
      "metadata": {
        "id": "pN0skqGYOgET"
      },
      "outputs": [],
      "source": [
        "class Solution:\n",
        "    def commonChars(self, words: list) -> list:\n",
        "        # se há apenas uma palavra, todas as letras são retornadas\n",
        "        if len(words) == 1:\n",
        "            return list(words)\n",
        "        list_of_words = [list(word) for word in words]\n",
        "        letters = []\n",
        "        for letter in words[0]:\n",
        "            # conta a quantidade mínima de vezes que a letra aparece em todas as palavras\n",
        "            letter_count = min([l.count(letter) for l in list_of_words])\n",
        "            if letter_count > 0:\n",
        "                letters.append(letter)\n",
        "                # remove a primeira ocorrência da letra em todas as palavras\n",
        "                [l.remove(letter) for l in list_of_words]\n",
        "        return letters\n",
        "        "
      ]
    }
  ]
}
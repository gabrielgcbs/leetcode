{
  "nbformat": 4,
  "nbformat_minor": 0,
  "metadata": {
    "colab": {
      "name": "Untitled2.ipynb",
      "provenance": []
    },
    "kernelspec": {
      "name": "python3",
      "display_name": "Python 3"
    },
    "language_info": {
      "name": "python"
    }
  },
  "cells": [
    {
      "cell_type": "markdown",
      "source": [
        "# **274. H-Index**\n",
        "\n",
        "## Given an array of integers citations where citations[i] is the number of citations a researcher received for their ith paper, return compute the researcher's h-index.\n",
        "\n",
        "According to the definition of h-index on Wikipedia: A scientist has an index h if h of their n papers have at least h citations each, and the other n − h papers have no more than h citations each.\n",
        "\n",
        "If there are several possible values for h, the maximum one is taken as the h-index."
      ],
      "metadata": {
        "id": "xAtMGt0BOnAi"
      }
    },
    {
      "cell_type": "code",
      "execution_count": null,
      "metadata": {
        "id": "pN0skqGYOgET"
      },
      "outputs": [],
      "source": [
        "class Solution:\n",
        "    def hIndex(self, citations: List[int]) -> int:\n",
        "        if len(citations)==1:\n",
        "            return 1 if citations[0] >= 1 else 0\n",
        "        if not citations:\n",
        "            return 0\n",
        "        num_citations = 1\n",
        "        h_index = 0\n",
        "        while(num_citations<=len(citations)):\n",
        "            aux_index = len(list(filter(lambda paper: paper>=num_citations, citations)))\n",
        "            if aux_index >= num_citations:\n",
        "                h_index = num_citations            \n",
        "            num_citations += 1\n",
        "        return h_index\n",
        "        "
      ]
    }
  ]
}
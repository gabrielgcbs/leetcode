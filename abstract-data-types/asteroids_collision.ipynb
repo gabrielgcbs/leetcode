{
  "nbformat": 4,
  "nbformat_minor": 0,
  "metadata": {
    "colab": {
      "name": "Untitled2.ipynb",
      "provenance": []
    },
    "kernelspec": {
      "name": "python3",
      "display_name": "Python 3"
    },
    "language_info": {
      "name": "python"
    }
  },
  "cells": [
    {
      "cell_type": "markdown",
      "source": [
        "# **Asteroid Collision**\n",
        "\n",
        "## We are given an array asteroids of integers representing asteroids in a row.\n",
        "\n",
        "For each asteroid, the absolute value represents its size, and the sign represents its direction (positive meaning right, negative meaning left). Each asteroid moves at the same speed.\n",
        "\n",
        "Find out the state of the asteroids after all collisions. If two asteroids meet, the smaller one will explode. If both are the same size, both will explode. Two asteroids moving in the same direction will never meet."
      ],
      "metadata": {
        "id": "xAtMGt0BOnAi"
      }
    },
    {
      "cell_type": "code",
      "execution_count": null,
      "metadata": {
        "id": "pN0skqGYOgET"
      },
      "outputs": [],
      "source": [
        "class Solution:\n",
        "    def asteroidCollision(self, asteroids: list) -> list:\n",
        "        asteroid_stack = []\n",
        "        index = 0\n",
        "        can_meet = True\n",
        "        while(can_meet and asteroids):\n",
        "            if not asteroid_stack:\n",
        "                asteroid_stack.append(asteroids[index])\n",
        "                index += 1\n",
        "                collided = False\n",
        "            else:\n",
        "                while index < len(asteroids) and asteroid_stack:\n",
        "                    asteroid1 = asteroid_stack[-1]\n",
        "                    asteroid2 = asteroids[index]\n",
        "                    if asteroid1 > 0 and asteroid2 < 0:\n",
        "                        if asteroid1 < abs(asteroid2):\n",
        "                            asteroid_stack.pop()\n",
        "                            asteroid_stack.append(asteroid2)\n",
        "                        elif asteroid1 + asteroid2 == 0:\n",
        "                            asteroid_stack.pop()\n",
        "                        collided = True\n",
        "                    else:\n",
        "                        asteroid_stack.append(asteroid2)\n",
        "                    index += 1\n",
        "            if index >= len(asteroids):\n",
        "                if not collided:\n",
        "                    can_meet = False\n",
        "                index = 0\n",
        "                asteroids = asteroid_stack[:]\n",
        "                asteroid_stack = []\n",
        "        return asteroids"
      ]
    }
  ]
}
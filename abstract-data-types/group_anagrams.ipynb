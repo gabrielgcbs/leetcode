{
  "nbformat": 4,
  "nbformat_minor": 0,
  "metadata": {
    "colab": {
      "name": "Untitled2.ipynb",
      "provenance": []
    },
    "kernelspec": {
      "name": "python3",
      "display_name": "Python 3"
    },
    "language_info": {
      "name": "python"
    }
  },
  "cells": [
    {
      "cell_type": "markdown",
      "source": [
        "# **49. Group Anagrams**\n",
        "\n",
        "## Given an array of strings *strs*, group the **anagrams** together. You can return the answer in any order.\n",
        "\n",
        "An **Anagram** is a word or phrase formed by rearranging the letters of a different word or phrase, typically using all the original letters exactly once."
      ],
      "metadata": {
        "id": "xAtMGt0BOnAi"
      }
    },
    {
      "cell_type": "code",
      "execution_count": 3,
      "metadata": {
        "id": "pN0skqGYOgET"
      },
      "outputs": [],
      "source": [
        "class Solution:\n",
        "    \n",
        "    def groupAnagrams(self, strs: list) -> list:\n",
        "        anagrams_dict = {}\n",
        "        anagrams = []\n",
        "        for word in strs:\n",
        "            sorted_word = ''.join(sorted(word))\n",
        "            anagram = anagrams_dict.get(sorted_word, [])\n",
        "            anagram.append(word)\n",
        "            anagrams_dict[sorted_word] = anagram\n",
        "            anagram = []\n",
        "        return list(anagrams_dict.values())\n",
        "            "
      ]
    }
  ]
}
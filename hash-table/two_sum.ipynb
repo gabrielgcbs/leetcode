{
  "nbformat": 4,
  "nbformat_minor": 0,
  "metadata": {
    "colab": {
      "name": "Untitled2.ipynb",
      "provenance": []
    },
    "kernelspec": {
      "name": "python3",
      "display_name": "Python 3"
    },
    "language_info": {
      "name": "python"
    }
  },
  "cells": [
    {
      "cell_type": "markdown",
      "source": [
        "# **1. Two sum**\n",
        "\n",
        "## Given an array of integers nums and an integer target, return indices of the two numbers such that they add up to target.\n",
        "\n",
        "You may assume that each input would have exactly one solution, and you may not use the same element twice.\n",
        "\n",
        "You can return the answer in any order."
      ],
      "metadata": {
        "id": "xAtMGt0BOnAi"
      }
    },
    {
      "cell_type": "code",
      "execution_count": null,
      "metadata": {
        "id": "pN0skqGYOgET"
      },
      "outputs": [],
      "source": [
        "class Solution:\n",
        "    def twoSum(self, nums: List[int], target: int) -> List[int]:\n",
        "        nums_map = {}\n",
        "        for i in range(len(nums)):\n",
        "            nums_map[nums[i]] = i\n",
        "        \n",
        "        for i in range(len(nums)):\n",
        "            sum_value = target - nums[i]\n",
        "            if sum_value in nums_map and nums_map[sum_value] != i:\n",
        "                return [i, nums_map[sum_value]]\n",
        "        return []"
      ]
    }
  ]
}
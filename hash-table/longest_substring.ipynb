{
  "nbformat": 4,
  "nbformat_minor": 0,
  "metadata": {
    "colab": {
      "name": "Untitled2.ipynb",
      "provenance": []
    },
    "kernelspec": {
      "name": "python3",
      "display_name": "Python 3"
    },
    "language_info": {
      "name": "python"
    }
  },
  "cells": [
    {
      "cell_type": "markdown",
      "source": [
        "# **3. Longest Substring Without Repeating Characters**\n",
        "\n",
        "## Given a string *s*, find the length of the **longest substring** without repeating characters."
      ],
      "metadata": {
        "id": "xAtMGt0BOnAi"
      }
    },
    {
      "cell_type": "code",
      "execution_count": null,
      "metadata": {
        "id": "pN0skqGYOgET"
      },
      "outputs": [],
      "source": [
        "class Solution:\n",
        "    def lengthOfLongestSubstring(self, s: str) -> int:\n",
        "        chars = {}\n",
        "\n",
        "        index = 0\n",
        "        max_substr = ''\n",
        "        current_substr = ''\n",
        "        while(index<len(s)):\n",
        "            char = s[index]\n",
        "            if char in chars.keys():\n",
        "                index = chars[char]+1\n",
        "                current_substr = ''\n",
        "                char = s[index]\n",
        "                chars = {}\n",
        "            current_substr += s[index]\n",
        "            chars[char] = index\n",
        "            if len(current_substr)>=len(max_substr):\n",
        "                max_substr = current_substr\n",
        "            index+=1\n",
        "        return len(max_substr)"
      ]
    }
  ]
}